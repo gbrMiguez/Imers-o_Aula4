{
  "cells": [
    {
      "cell_type": "markdown",
      "metadata": {
        "id": "view-in-github",
        "colab_type": "text"
      },
      "source": [
        "<a href=\"https://colab.research.google.com/github/gbrMiguez/Imers-o_Aula4/blob/main/ChatBotAluraFiap.ipynb\" target=\"_parent\"><img src=\"https://colab.research.google.com/assets/colab-badge.svg\" alt=\"Open In Colab\"/></a>"
      ]
    },
    {
      "cell_type": "markdown",
      "source": [
        "## Chatbot para Entrar na Área de Tecnologia - Colab e Gemini 1.0 Pro: Código Python Aprimorado\n",
        "\n",
        "**Observações:**\n",
        "\n",
        "* Este código aprimorado incorpora sugestões para um tom mais profissional e termos mais técnicos.\n",
        "* A estrutura básica do código original permanece a mesma, com foco na funcionalidade do chatbot.\n",
        "* As modificações foram feitas principalmente na formatação da resposta final, utilizando linguagem mais formal e concisa."
      ],
      "metadata": {
        "id": "6S8RghOMOPTP"
      }
    },
    {
      "cell_type": "code",
      "source": [
        "# Importação de Bibliotecas\n",
        "import nltk\n",
        "from spacy.lang.pt import Portuguese\n",
        "from gemini.gemini import Gemini\n",
        "from gemini.config import GeminiConfig\n",
        "from gemini.prompt import Prompt\n",
        "from google.colab import auth\n",
        "import requests\n",
        "\n",
        "# Autenticação no Google Colab\n",
        "auth.authenticate_with_google()\n",
        "\n",
        "# Inicialização do Gemini 1.0 Pro\n",
        "gemini_config = GeminiConfig()\n",
        "gemini_config.model_name = \"gemini-1.0-pro\"  # Selecione o modelo adequado\n",
        "gemini = Gemini(gemini_config)\n",
        "\n",
        "# Carregamento do Modelo de Linguagem do spaCy\n",
        "nlp = Portuguese()\n",
        "\n",
        "# Função para Consultar a API da Alura\n",
        "def consultar_alura(termo_pesquisa):\n",
        "  # Insira sua chave de API da Alura aqui\n",
        "  chave_api_alura = \"SEU_CHAVE_DE_API_ALURA\"\n",
        "  url_consulta = f\"https://api.alura.com.br/v1/cursos?q={termo_pesquisa}&api_key={chave_api_alura}\"\n",
        "  resposta = requests.get(url_consulta)\n",
        "  dados_alura = resposta.json()\n",
        "\n",
        "  # Processar e Retornar os Dados da Alura\n",
        "  cursos_alura = []\n",
        "  for curso in dados_alura[\"cursos\"]:\n",
        "    cursos_alura.append({\n",
        "      \"titulo\": curso[\"titulo\"],\n",
        "      \"descricao\": curso[\"descricao\"],\n",
        "      \"link\": curso[\"url\"]\n",
        "    })\n",
        "  return cursos_alura\n",
        "\n",
        "# Função para Consultar a API da FIAP\n",
        "def consultar_fiap(termo_pesquisa):\n",
        "  # Insira sua chave de API da FIAP aqui\n",
        "  chave_api_fiap = \"SEU_CHAVE_DE_API_FIAP\"\n",
        "  url_consulta = f\"https://api.fiap.com.br/v1/cursos?q={termo-pesquisa}&api_key={chave_api_fiap}\"\n",
        "  resposta = requests.get(url_consulta)\n",
        "  dados_fiap = resposta.json()\n",
        "\n",
        "  # Processar e Retornar os Dados da FIAP\n",
        "  cursos_fiap = []\n",
        "  for curso in dados_fiap[\"cursos\"]:\n",
        "    cursos_fiap.append({\n",
        "      \"titulo\": curso[\"nome\"],\n",
        "      \"descricao\": curso[\"descricao\"],\n",
        "      \"link\": curso[\"url\"]\n",
        "    })\n",
        "  return cursos_fiap\n",
        "\n",
        "# Loop Principal do Chatbot\n",
        "while True:\n",
        "  # Pergunta ao Usuário (Tom Formal e Profissional)\n",
        "  pergunta_usuario = input(\"Digite sua pergunta sobre a área de tecnologia: \")\n",
        "\n",
        "  # Pré-processamento da Pergunta (Clareza e Precisão)\n",
        "  pergunta_pre_processada = nlp(pergunta_usuario.lower())\n",
        "\n",
        "  # Extração de Entidades Relevantes (Foco e Relevância)\n",
        "  entidades = []\n",
        "  for ent in pergunta_pre_processada.ents:\n",
        "    if ent.label_ in [\"NOUN\", \"PROPN\"]:\n",
        "      entidades.append(ent.text)\n",
        "\n",
        "  # Geração do Prompt para o Gemini (Eficiência e Precisão)\n",
        "  prompt = Prompt(text=pergunta_usuario, entities=entidades)\n",
        "\n",
        "  # Resposta do Gemini (Modelo Avançado e Confiável)\n",
        "  resposta_gemini = gemini.generate(prompt)\n",
        "\n",
        "  # Consulta às APIs da Alura e FIAP (Integração Robusta)\n",
        "  resultados_alura = None\n",
        "  resultados_fiap = None\n",
        "\n",
        "  if entidades:\n",
        "    for entidade in entidades:\n",
        "      resultados_alura = consultar_alura(entidade) if resultados_alura is None else resultados_alura\n",
        "      resultados_fiap = consultar_fiap(entidade) if resultados_fiap is None else resultados_\n"
      ],
      "outputs": [
        {
          "output_type": "error",
          "ename": "SyntaxError",
          "evalue": "incomplete input (<ipython-input-6-2cb8c4218ea3>, line 91)",
          "traceback": [
            "\u001b[0;36m  File \u001b[0;32m\"<ipython-input-6-2cb8c4218ea3>\"\u001b[0;36m, line \u001b[0;32m91\u001b[0m\n\u001b[0;31m    for curso in resultados_alura:\u001b[0m\n\u001b[0m                                  ^\u001b[0m\n\u001b[0;31mSyntaxError\u001b[0m\u001b[0;31m:\u001b[0m incomplete input\n"
          ]
        }
      ],
      "execution_count": 6,
      "metadata": {
        "colab": {
          "base_uri": "https://localhost:8080/",
          "height": 106
        },
        "id": "wiaZACUdOPTS",
        "outputId": "06de17de-3c44-4234-fcc1-6735684c7cef"
      }
    }
  ],
  "metadata": {
    "colab": {
      "provenance": [],
      "include_colab_link": true
    },
    "kernelspec": {
      "display_name": "Python 3",
      "name": "python3"
    }
  },
  "nbformat": 4,
  "nbformat_minor": 0
}